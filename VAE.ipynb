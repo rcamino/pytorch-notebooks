{
 "cells": [
  {
   "cell_type": "code",
   "execution_count": null,
   "metadata": {},
   "outputs": [],
   "source": [
    "from __future__ import print_function\n",
    "\n",
    "import torch\n",
    "import torch.nn as nn\n",
    "import torch.nn.functional as F\n",
    "import torch.autograd as autograd\n",
    "import torch.optim as optim\n",
    "\n",
    "from torch.autograd import Variable\n",
    "\n",
    "import numpy as np\n",
    "\n",
    "import matplotlib.pyplot as plt\n",
    "import matplotlib.gridspec as gridspec\n",
    "\n",
    "from torchvision import datasets, transforms\n",
    "\n",
    "%matplotlib inline"
   ]
  },
  {
   "cell_type": "code",
   "execution_count": null,
   "metadata": {},
   "outputs": [],
   "source": [
    "use_cuda = torch.cuda.is_available()"
   ]
  },
  {
   "cell_type": "code",
   "execution_count": null,
   "metadata": {},
   "outputs": [],
   "source": [
    "batch_size = 16\n",
    "noise_size = 100\n",
    "hidden_size = 128\n",
    "learning_rate = 1e-3"
   ]
  },
  {
   "cell_type": "code",
   "execution_count": null,
   "metadata": {},
   "outputs": [],
   "source": [
    "mnist = torch.utils.data.DataLoader(\n",
    "    datasets.MNIST('data/mnist/raw/', train=True, download=True, transform=transforms.ToTensor()),\n",
    "    batch_size=batch_size, shuffle=True)"
   ]
  },
  {
   "cell_type": "code",
   "execution_count": null,
   "metadata": {},
   "outputs": [],
   "source": [
    "image_height = mnist.dataset.train_data.shape[1]\n",
    "image_width = mnist.dataset.train_data.shape[2]\n",
    "image_size = image_height * image_width\n",
    "print(image_size)"
   ]
  },
  {
   "cell_type": "code",
   "execution_count": null,
   "metadata": {},
   "outputs": [],
   "source": [
    "def initialize_weights(m):\n",
    "    if type(m) == nn.Linear:\n",
    "        nn.init.xavier_normal_(m.weight)\n",
    "        nn.init.constant_(m.bias, 0.0)"
   ]
  },
  {
   "cell_type": "code",
   "execution_count": null,
   "metadata": {},
   "outputs": [],
   "source": [
    "class Encoder(nn.Module):\n",
    "    \n",
    "    def __init__(self):\n",
    "        super(Encoder, self).__init__()\n",
    "        \n",
    "        self.h1 = nn.Linear(image_size, hidden_size)\n",
    "        self.g1 = nn.ReLU()\n",
    "        \n",
    "        self.h_mu = nn.Linear(hidden_size, noise_size)\n",
    "        self.h_var = nn.Linear(hidden_size, noise_size)\n",
    "        \n",
    "        self.apply(initialize_weights)\n",
    "\n",
    "    def forward(self, A0):\n",
    "        Z1 = self.h1(A0)\n",
    "        A1 = self.g1(Z1)\n",
    "        Z_mu = self.h_mu(A1)\n",
    "        Z_logvar = self.h_var(A1)\n",
    "        return Z_mu, Z_logvar"
   ]
  },
  {
   "cell_type": "code",
   "execution_count": null,
   "metadata": {},
   "outputs": [],
   "source": [
    "class Decoder(nn.Module):\n",
    "    \n",
    "    def __init__(self):\n",
    "        super(Decoder, self).__init__()\n",
    "\n",
    "        self.h1 = nn.Linear(noise_size, hidden_size)\n",
    "        self.g1 = nn.ReLU()\n",
    "        self.h2 = nn.Linear(hidden_size, image_size)\n",
    "        self.g2 = nn.Sigmoid()\n",
    "        \n",
    "        self.apply(initialize_weights)\n",
    "\n",
    "    def forward(self, A0):\n",
    "        Z1 = self.h1(A0)\n",
    "        A1 = self.g1(Z1)\n",
    "        Z2 = self.h2(A1)\n",
    "        A2 = self.g2(Z2)\n",
    "        return A2"
   ]
  },
  {
   "cell_type": "code",
   "execution_count": null,
   "metadata": {},
   "outputs": [],
   "source": [
    "E = Encoder()\n",
    "D = Decoder()\n",
    "\n",
    "parameters = list(E.parameters()) + list(D.parameters())\n",
    "\n",
    "solver = optim.Adam(parameters, lr=learning_rate)"
   ]
  },
  {
   "cell_type": "code",
   "execution_count": null,
   "metadata": {},
   "outputs": [],
   "source": [
    "if use_cuda:\n",
    "    E = E.cuda()\n",
    "    D = D.cuda()"
   ]
  },
  {
   "cell_type": "code",
   "execution_count": null,
   "metadata": {},
   "outputs": [],
   "source": [
    "def reparametrization(mu, logvar):\n",
    "    gaussian_noise = Variable(torch.randn(batch_size, noise_size))\n",
    "    if use_cuda:\n",
    "        gaussian_noise = gaussian_noise.cuda()\n",
    "    return mu + torch.exp(logvar / 2) * gaussian_noise"
   ]
  },
  {
   "cell_type": "code",
   "execution_count": null,
   "metadata": {},
   "outputs": [],
   "source": [
    "epochs = 10\n",
    "\n",
    "for epoch in range(epochs):\n",
    "    for iteration, (X, _) in enumerate(mnist):\n",
    "        solver.zero_grad()\n",
    "\n",
    "        X = Variable(X).view(-1, image_size)\n",
    "        if use_cuda:\n",
    "            X = X.cuda()\n",
    "\n",
    "        Z_mu, Z_logvar = E(X)\n",
    "        Z = reparametrization(Z_mu, Z_logvar)\n",
    "        X_r = D(Z)\n",
    "\n",
    "        r_loss = F.binary_cross_entropy(X_r, X, reduction=\"sum\") / batch_size\n",
    "        kl_loss = torch.mean(0.5 * torch.sum(torch.exp(Z_logvar) + Z_mu ** 2 - 1. - Z_logvar, 1))\n",
    "        loss = r_loss + kl_loss\n",
    "\n",
    "        loss.backward()\n",
    "        solver.step()\n",
    "\n",
    "    if use_cuda:\n",
    "        loss = loss.cpu()\n",
    "    print('Epoch {}; Loss: {}'.format(epoch + 1, loss.data.numpy()))"
   ]
  }
 ],
 "metadata": {
  "kernelspec": {
   "display_name": "Python 2",
   "language": "python",
   "name": "python2"
  },
  "language_info": {
   "codemirror_mode": {
    "name": "ipython",
    "version": 2
   },
   "file_extension": ".py",
   "mimetype": "text/x-python",
   "name": "python",
   "nbconvert_exporter": "python",
   "pygments_lexer": "ipython2",
   "version": "2.7.15rc1"
  }
 },
 "nbformat": 4,
 "nbformat_minor": 2
}
