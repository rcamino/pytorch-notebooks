{
 "cells": [
  {
   "cell_type": "code",
   "execution_count": null,
   "metadata": {
    "collapsed": true
   },
   "outputs": [],
   "source": [
    "from __future__ import print_function\n",
    "import torch\n",
    "from torch.autograd import Variable\n",
    "import torch.nn as nn\n",
    "import torch.nn.functional as F\n",
    "import torch.optim as optim\n",
    "import numpy as np\n",
    "import time"
   ]
  },
  {
   "cell_type": "code",
   "execution_count": null,
   "metadata": {
    "collapsed": true
   },
   "outputs": [],
   "source": [
    "# with open(\"data/shakespeare.txt\", \"r\") as data_file:\n",
    "with open(\"data/tinyshakespeare.txt\", \"r\") as data_file:\n",
    "    data = data_file.read()"
   ]
  },
  {
   "cell_type": "code",
   "execution_count": null,
   "metadata": {},
   "outputs": [],
   "source": [
    "data_size = len(data)\n",
    "print(data_size)"
   ]
  },
  {
   "cell_type": "code",
   "execution_count": null,
   "metadata": {},
   "outputs": [],
   "source": [
    "alphabet = set(data)\n",
    "alphabet_size = len(alphabet)\n",
    "print(alphabet_size)"
   ]
  },
  {
   "cell_type": "code",
   "execution_count": null,
   "metadata": {
    "collapsed": true
   },
   "outputs": [],
   "source": [
    "symbol_to_id = {}\n",
    "id_to_symbol = {}\n",
    "for symbol_id, symbol in enumerate(sorted(alphabet)):\n",
    "    symbol_to_id[symbol] = symbol_id\n",
    "    id_to_symbol[symbol_id] = symbol"
   ]
  },
  {
   "cell_type": "code",
   "execution_count": null,
   "metadata": {
    "collapsed": true
   },
   "outputs": [],
   "source": [
    "def one_hot_encoding(symbol):\n",
    "    one_hot_encoded = torch.zeros(alphabet_size)\n",
    "    symbol_id = symbol_to_id[symbol]\n",
    "    one_hot_encoded[symbol_id] = 1\n",
    "    return one_hot_encoded"
   ]
  },
  {
   "cell_type": "code",
   "execution_count": null,
   "metadata": {
    "collapsed": true
   },
   "outputs": [],
   "source": [
    "def labels_tensor(symbols):\n",
    "    return torch.Tensor([symbol_to_id[symbol] for symbol in symbols]).long()"
   ]
  },
  {
   "cell_type": "code",
   "execution_count": null,
   "metadata": {
    "collapsed": true
   },
   "outputs": [],
   "source": [
    "hidden_size = 100\n",
    "\n",
    "class MinCharRNN(nn.Module):\n",
    "    \n",
    "    def __init__(self):\n",
    "        super(MinCharRNN, self).__init__()\n",
    "        \n",
    "        self.input_to_hidden = nn.Linear(alphabet_size, hidden_size)\n",
    "        self.hidden_to_hidden = nn.Linear(hidden_size, hidden_size)\n",
    "        self.hidden_to_output = nn.Linear(hidden_size, alphabet_size)\n",
    "\n",
    "    def forward(self, input_symbol, hidden_state):\n",
    "        hidden_state = F.tanh(self.input_to_hidden(input_symbol) + self.hidden_to_hidden(hidden_state))\n",
    "        output = self.hidden_to_output(hidden_state)\n",
    "        return output, hidden_state"
   ]
  },
  {
   "cell_type": "code",
   "execution_count": null,
   "metadata": {
    "collapsed": true
   },
   "outputs": [],
   "source": [
    "def initialize_weights(m):\n",
    "    if isinstance(m, nn.Linear):\n",
    "        nn.init.uniform(m.weight, -0.01, 0.01)"
   ]
  },
  {
   "cell_type": "code",
   "execution_count": null,
   "metadata": {},
   "outputs": [],
   "source": [
    "learning_rate = 1e-1\n",
    "\n",
    "model = MinCharRNN()    \n",
    "loss_function = nn.CrossEntropyLoss()\n",
    "optimizer = optim.Adagrad(model.parameters(), lr=learning_rate)\n",
    "\n",
    "model.apply(initialize_weights)"
   ]
  },
  {
   "cell_type": "code",
   "execution_count": null,
   "metadata": {
    "collapsed": true
   },
   "outputs": [],
   "source": [
    "# model.load_state_dict(torch.load(\"data/min-char-rnn.torch\"))"
   ]
  },
  {
   "cell_type": "code",
   "execution_count": null,
   "metadata": {
    "collapsed": true
   },
   "outputs": [],
   "source": [
    "sample_size = 200\n",
    "first_symbol = \"\\n\"\n",
    "\n",
    "def print_sample():\n",
    "    v_input_symbol = Variable(one_hot_encoding(first_symbol), volatile=True)\n",
    "    v_hidden_state = Variable(torch.zeros((1, hidden_size)), volatile=True)\n",
    "\n",
    "    sample = \"\"\n",
    "    \n",
    "    for sample_id in range(sample_size):\n",
    "        v_logits, v_hidden_state = model(v_input_symbol, v_hidden_state)\n",
    "        probabilities = F.softmax(v_logits).data.squeeze(0).numpy()\n",
    "        symbol_id = np.random.choice(range(alphabet_size), p=probabilities)\n",
    "        symbol = id_to_symbol[symbol_id]\n",
    "        sample += symbol\n",
    "        v_input_symbol = Variable(one_hot_encoding(symbol), volatile=True)\n",
    "    \n",
    "    print(\"-\" * 80)\n",
    "    print(sample)\n",
    "    print(\"-\" * 80)"
   ]
  },
  {
   "cell_type": "code",
   "execution_count": null,
   "metadata": {},
   "outputs": [],
   "source": [
    "print_sample()"
   ]
  },
  {
   "cell_type": "code",
   "execution_count": null,
   "metadata": {
    "scrolled": true
   },
   "outputs": [],
   "source": [
    "epochs = 10\n",
    "sequence_size = 25\n",
    "batches = data_size // (sequence_size + 1)\n",
    "log_every = 10000\n",
    "gradient_clipping = 5\n",
    "\n",
    "initial_state = torch.zeros((1, hidden_size))\n",
    "\n",
    "for epoch_id in range(epochs):\n",
    "    # reset the state before every epoch\n",
    "    last_hidden_state = initial_state\n",
    "    \n",
    "    accumulated_loss = 0.0\n",
    "    start_time = time.time()\n",
    "    \n",
    "    epoch_accumulated_loss = 0.0\n",
    "    epoch_start_time = time.time()\n",
    "    \n",
    "    for batch_id in range(batches):\n",
    "        batch_start = batch_id * sequence_size\n",
    "        \n",
    "        # reuse the hidden state from last batch\n",
    "        hidden_state = Variable(last_hidden_state)\n",
    "        \n",
    "        # clear the gradient information from the past batch\n",
    "        optimizer.zero_grad()\n",
    "        \n",
    "        # for every symbol in the batch\n",
    "        # try predict the next symbol\n",
    "        # and meassure the loss\n",
    "        predictions = []\n",
    "        for sequence_id in range(sequence_size):\n",
    "            v_input_symbol = Variable(one_hot_encoding(data[batch_start + sequence_id]))\n",
    "            \n",
    "            v_prediction, hidden_state = model(v_input_symbol, hidden_state)\n",
    "            \n",
    "            predictions.append(v_prediction)\n",
    "            \n",
    "        # create all labels\n",
    "        v_labels = Variable(labels_tensor(data[batch_start + 1:batch_start + sequence_size + 1]))\n",
    "        \n",
    "        # create all predictions\n",
    "        v_predictions = torch.cat(predictions)\n",
    "            \n",
    "        # backpropagate through time\n",
    "        v_loss = loss_function(v_predictions, v_labels)\n",
    "        v_loss.backward()\n",
    "        \n",
    "        # gradient clipping to avoid exploding gradients\n",
    "        for parameter in model.parameters():\n",
    "            parameter.grad.data.clamp_(-gradient_clipping, gradient_clipping)\n",
    "        \n",
    "        # update parameters\n",
    "        optimizer.step()\n",
    "        \n",
    "        # some logging\n",
    "        accumulated_loss += v_loss.data[0]\n",
    "        epoch_accumulated_loss += v_loss.data[0]\n",
    "        \n",
    "        if batch_id % log_every == log_every - 1:\n",
    "            mean_loss = accumulated_loss / float(log_every)\n",
    "            end_time = time.time()\n",
    "            elapsed_time = end_time - start_time\n",
    "            accumulated_loss = 0.0\n",
    "            start_time = end_time\n",
    "            print(\"Batch: {:6d} Loss: {:.4f} Time: {:.2f} seconds\".format(batch_id + 1, mean_loss, elapsed_time))\n",
    "        \n",
    "        # take the hidden state out of the variable\n",
    "        # to avoid backpropagating the next batch to this one\n",
    "        last_hidden_state = hidden_state.data\n",
    "        \n",
    "    mean_loss = epoch_accumulated_loss / float(batches)\n",
    "    elapsed_time = time.time() - epoch_start_time\n",
    "\n",
    "    print(\"Epoch: {:6d} Loss: {:.4f} Time: {:.2f} seconds\".format(epoch_id + 1, mean_loss, elapsed_time))\n",
    "\n",
    "    print_sample()"
   ]
  },
  {
   "cell_type": "code",
   "execution_count": null,
   "metadata": {
    "collapsed": true
   },
   "outputs": [],
   "source": [
    "# torch.save(model.state_dict(), \"data/min-char-rnn.torch\")"
   ]
  }
 ],
 "metadata": {
  "kernelspec": {
   "display_name": "Python 2",
   "language": "python",
   "name": "python2"
  },
  "language_info": {
   "codemirror_mode": {
    "name": "ipython",
    "version": 2
   },
   "file_extension": ".py",
   "mimetype": "text/x-python",
   "name": "python",
   "nbconvert_exporter": "python",
   "pygments_lexer": "ipython2",
   "version": "2.7.12"
  }
 },
 "nbformat": 4,
 "nbformat_minor": 2
}
