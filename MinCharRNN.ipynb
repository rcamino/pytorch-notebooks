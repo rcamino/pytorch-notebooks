{
 "cells": [
  {
   "cell_type": "code",
   "execution_count": null,
   "metadata": {
    "collapsed": true
   },
   "outputs": [],
   "source": [
    "from __future__ import print_function\n",
    "import torch\n",
    "from torch.autograd import Variable\n",
    "import torch.nn as nn\n",
    "import torch.nn.functional as F\n",
    "import torch.optim as optim\n",
    "import numpy as np\n",
    "import time"
   ]
  },
  {
   "cell_type": "code",
   "execution_count": null,
   "metadata": {
    "collapsed": true
   },
   "outputs": [],
   "source": [
    "# with open(\"data/shakespeare.txt\", \"r\") as data_file:\n",
    "with open(\"data/tinyshakespeare.txt\", \"r\") as data_file:\n",
    "    data = data_file.read()"
   ]
  },
  {
   "cell_type": "code",
   "execution_count": null,
   "metadata": {},
   "outputs": [],
   "source": [
    "data_size = len(data)\n",
    "print(data_size)"
   ]
  },
  {
   "cell_type": "code",
   "execution_count": null,
   "metadata": {},
   "outputs": [],
   "source": [
    "alphabet = set(data)\n",
    "alphabet_size = len(alphabet)\n",
    "print(alphabet_size)"
   ]
  },
  {
   "cell_type": "code",
   "execution_count": null,
   "metadata": {
    "collapsed": true
   },
   "outputs": [],
   "source": [
    "symbol_to_id = {}\n",
    "id_to_symbol = {}\n",
    "for symbol_id, symbol in enumerate(sorted(alphabet)):\n",
    "    symbol_to_id[symbol] = symbol_id\n",
    "    id_to_symbol[symbol_id] = symbol"
   ]
  },
  {
   "cell_type": "code",
   "execution_count": null,
   "metadata": {
    "collapsed": true
   },
   "outputs": [],
   "source": [
    "def one_hot_encoding(symbol):\n",
    "    one_hot_encoded = torch.zeros(alphabet_size)\n",
    "    symbol_id = symbol_to_id[symbol]\n",
    "    one_hot_encoded[symbol_id] = 1\n",
    "    return one_hot_encoded"
   ]
  },
  {
   "cell_type": "code",
   "execution_count": null,
   "metadata": {
    "collapsed": true
   },
   "outputs": [],
   "source": [
    "def label_tensor(symbol):\n",
    "    return torch.LongTensor([symbol_to_id[symbol]])"
   ]
  },
  {
   "cell_type": "code",
   "execution_count": null,
   "metadata": {
    "collapsed": true
   },
   "outputs": [],
   "source": [
    "hidden_size = 100\n",
    "\n",
    "class MinCharRNN(nn.Module):\n",
    "    \n",
    "    def __init__(self):\n",
    "        super(MinCharRNN, self).__init__()\n",
    "        \n",
    "        self.input_to_hidden = nn.Linear(alphabet_size, hidden_size)\n",
    "        self.hidden_to_hidden = nn.Linear(hidden_size, hidden_size)\n",
    "        self.hidden_to_output = nn.Linear(hidden_size, alphabet_size)\n",
    "\n",
    "    def forward(self, input_symbol, hidden_state):\n",
    "        hidden_state = F.tanh(self.input_to_hidden(input_symbol) + self.hidden_to_hidden(hidden_state))\n",
    "        output = self.hidden_to_output(hidden_state)\n",
    "        return output, hidden_state"
   ]
  },
  {
   "cell_type": "code",
   "execution_count": null,
   "metadata": {
    "collapsed": true
   },
   "outputs": [],
   "source": [
    "def initialize_weights(m):\n",
    "    if isinstance(m, nn.Linear):\n",
    "        nn.init.uniform(m.weight, -0.01, 0.01)"
   ]
  },
  {
   "cell_type": "code",
   "execution_count": null,
   "metadata": {},
   "outputs": [],
   "source": [
    "learning_rate = 1e-1\n",
    "\n",
    "model = MinCharRNN()    \n",
    "loss_function = nn.CrossEntropyLoss()\n",
    "optimizer = optim.Adagrad(model.parameters(), lr=learning_rate)\n",
    "\n",
    "model.apply(initialize_weights)"
   ]
  },
  {
   "cell_type": "code",
   "execution_count": null,
   "metadata": {
    "collapsed": true
   },
   "outputs": [],
   "source": [
    "# model.load_state_dict(torch.load(\"data/min-char-rnn.torch\"))"
   ]
  },
  {
   "cell_type": "code",
   "execution_count": null,
   "metadata": {
    "scrolled": true
   },
   "outputs": [],
   "source": [
    "epochs = 10\n",
    "batch_size = 25\n",
    "batches = data_size // (batch_size + 1)\n",
    "log_every = 1000\n",
    "gradient_clipping = 5\n",
    "\n",
    "initial_state = torch.zeros((1, hidden_size))\n",
    "\n",
    "for epoch in range(epochs):\n",
    "    # reset the state before every epoch\n",
    "    last_hidden_state = initial_state\n",
    "    \n",
    "    accumulated_loss = 0.0\n",
    "    start_time = time.time()\n",
    "    \n",
    "    for batch_id in range(batches):\n",
    "        # reuse the hidden state from last batch\n",
    "        hidden_state = Variable(last_hidden_state)\n",
    "        \n",
    "        # clear the gradient information from the past batch\n",
    "        optimizer.zero_grad()\n",
    "        \n",
    "        # loss for the entire sequence\n",
    "        v_loss = Variable(torch.zeros(1))\n",
    "        \n",
    "        # for every symbol in the batch\n",
    "        # try predict the next symbol\n",
    "        # and meassure the loss\n",
    "        for sequence_id in range(batch_size):\n",
    "            symbol = one_hot_encoding(data[batch_id * batch_size + sequence_id])\n",
    "            label = label_tensor(data[sequence_id + 1])\n",
    "            \n",
    "            v_symbol = Variable(symbol)\n",
    "            v_label = Variable(label)\n",
    "            \n",
    "            v_prediction, hidden_state = model(v_symbol, hidden_state)\n",
    "            v_loss += loss_function(v_prediction, v_label)\n",
    "            \n",
    "        # backpropagate through time\n",
    "        v_loss.backward()\n",
    "        \n",
    "        # gradient clipping to avoid exploding gradients\n",
    "        for parameter in model.parameters():\n",
    "            parameter.grad.data.clamp_(-gradient_clipping, gradient_clipping)\n",
    "        \n",
    "        # update parameters\n",
    "        optimizer.step()\n",
    "        \n",
    "        # some logging\n",
    "        accumulated_loss += v_loss.data[0]\n",
    "        \n",
    "        if batch_id % log_every == log_every - 1:\n",
    "            mean_loss = accumulated_loss / float(log_every)\n",
    "            end_time = time.time()\n",
    "            elapsed_time = end_time - start_time\n",
    "            accumulated_loss = 0.0\n",
    "            start_time = end_time\n",
    "            print(\"Batch: {:6d} Loss: {:.4f} Time: {:.2f} seconds\".format(batch_id + 1, mean_loss, elapsed_time))\n",
    "        \n",
    "        # take the hidden state out of the variable\n",
    "        # to avoid backpropagating the next batch to this one\n",
    "        last_hidden_state = hidden_state.data"
   ]
  },
  {
   "cell_type": "code",
   "execution_count": null,
   "metadata": {
    "collapsed": true
   },
   "outputs": [],
   "source": [
    "# torch.save(model.state_dict(), \"data/min-char-rnn.torch\")"
   ]
  },
  {
   "cell_type": "code",
   "execution_count": null,
   "metadata": {},
   "outputs": [],
   "source": [
    "sample_size = 200\n",
    "\n",
    "symbol = Variable(one_hot_encoding(\"\\n\"), volatile=True)\n",
    "hidden_state = Variable(torch.zeros((1, hidden_size)), volatile=True)\n",
    "\n",
    "sample = \"\"\n",
    "for sample_id in range(sample_size):\n",
    "    symbol, hidden_state = model(symbol, hidden_state)\n",
    "    probabilities = F.softmax(symbol)\n",
    "    symbol_id = np.random.choice(range(alphabet_size), p=probabilities.data.squeeze(0).numpy())\n",
    "    sample += id_to_symbol[symbol_id]\n",
    "    \n",
    "print(sample)"
   ]
  }
 ],
 "metadata": {
  "kernelspec": {
   "display_name": "Python 2",
   "language": "python",
   "name": "python2"
  },
  "language_info": {
   "codemirror_mode": {
    "name": "ipython",
    "version": 2
   },
   "file_extension": ".py",
   "mimetype": "text/x-python",
   "name": "python",
   "nbconvert_exporter": "python",
   "pygments_lexer": "ipython2",
   "version": "2.7.12"
  }
 },
 "nbformat": 4,
 "nbformat_minor": 2
}
