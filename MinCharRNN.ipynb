{
 "cells": [
  {
   "cell_type": "code",
   "execution_count": null,
   "metadata": {
    "collapsed": true
   },
   "outputs": [],
   "source": [
    "from __future__ import print_function\n",
    "import torch\n",
    "from torch.autograd import Variable\n",
    "import torch.nn as nn\n",
    "import torch.nn.functional as F\n",
    "import torch.optim as optim\n",
    "import numpy as np"
   ]
  },
  {
   "cell_type": "code",
   "execution_count": null,
   "metadata": {
    "collapsed": true
   },
   "outputs": [],
   "source": [
    "# with open(\"data/shakespeare.txt\", \"r\") as data_file:\n",
    "with open(\"data/tinyshakespeare.txt\", \"r\") as data_file:\n",
    "    data = data_file.read()"
   ]
  },
  {
   "cell_type": "code",
   "execution_count": null,
   "metadata": {},
   "outputs": [],
   "source": [
    "data_size = len(data)\n",
    "print(data_size)"
   ]
  },
  {
   "cell_type": "code",
   "execution_count": null,
   "metadata": {},
   "outputs": [],
   "source": [
    "alphabet = set(data)\n",
    "alphabet_size = len(alphabet)\n",
    "print(alphabet_size)"
   ]
  },
  {
   "cell_type": "code",
   "execution_count": null,
   "metadata": {
    "collapsed": true
   },
   "outputs": [],
   "source": [
    "symbol_to_id = {}\n",
    "id_to_symbol = {}\n",
    "for symbol_id, symbol in enumerate(sorted(alphabet)):\n",
    "    symbol_to_id[symbol] = symbol_id\n",
    "    id_to_symbol[symbol_id] = symbol"
   ]
  },
  {
   "cell_type": "code",
   "execution_count": null,
   "metadata": {
    "collapsed": true
   },
   "outputs": [],
   "source": [
    "def batch_one_hot_encoding(symbols):\n",
    "    one_hot_encoded = torch.zeros((len(symbols), alphabet_size))\n",
    "    for i, symbol in enumerate(symbols):\n",
    "        symbol_id = symbol_to_id[symbol]\n",
    "        one_hot_encoded[i][symbol_id] = 1\n",
    "    return one_hot_encoded"
   ]
  },
  {
   "cell_type": "code",
   "execution_count": null,
   "metadata": {
    "collapsed": true
   },
   "outputs": [],
   "source": [
    "def extract_batch_labels(one_hot_encoded):\n",
    "    return torch.max(one_hot_encoded, 1)[1].unsqueeze(1)"
   ]
  },
  {
   "cell_type": "code",
   "execution_count": null,
   "metadata": {
    "collapsed": true
   },
   "outputs": [],
   "source": [
    "hidden_size = 100\n",
    "\n",
    "class MinCharRNN(nn.Module):\n",
    "    \n",
    "    def __init__(self):\n",
    "        super(MinCharRNN, self).__init__()\n",
    "        \n",
    "        self.input_to_hidden = nn.Linear(alphabet_size, hidden_size)\n",
    "        self.hidden_to_hidden = nn.Linear(hidden_size, hidden_size)\n",
    "        self.hidden_to_output = nn.Linear(hidden_size, alphabet_size)\n",
    "\n",
    "    def forward(self, input_symbol, hidden_state):\n",
    "        hidden_state = F.tanh(self.input_to_hidden(input_symbol) + self.hidden_to_hidden(hidden_state))\n",
    "        output = self.hidden_to_output(hidden_state)\n",
    "        return output, hidden_state"
   ]
  },
  {
   "cell_type": "code",
   "execution_count": null,
   "metadata": {
    "collapsed": true
   },
   "outputs": [],
   "source": [
    "def initialize_weights(m):\n",
    "    if isinstance(m, nn.Linear):\n",
    "        nn.init.uniform(m.weight, -0.01, 0.01)"
   ]
  },
  {
   "cell_type": "code",
   "execution_count": null,
   "metadata": {
    "collapsed": true
   },
   "outputs": [],
   "source": [
    "use_cuda = torch.cuda.is_available()"
   ]
  },
  {
   "cell_type": "code",
   "execution_count": null,
   "metadata": {},
   "outputs": [],
   "source": [
    "learning_rate = 1e-1\n",
    "\n",
    "model = MinCharRNN()\n",
    "\n",
    "if use_cuda:\n",
    "    model = model.cuda()\n",
    "    \n",
    "loss_function = nn.CrossEntropyLoss()\n",
    "optimizer = optim.Adagrad(model.parameters(), lr=learning_rate)\n",
    "\n",
    "model.apply(initialize_weights)"
   ]
  },
  {
   "cell_type": "code",
   "execution_count": null,
   "metadata": {},
   "outputs": [],
   "source": [
    "epochs = 2\n",
    "batch_size = 16\n",
    "batches = data_size // (batch_size + 1)\n",
    "log_every = 1000\n",
    "gradient_clipping = 5\n",
    "\n",
    "initial_state = torch.zeros((1, hidden_size))\n",
    "if use_cuda:\n",
    "    initial_state = initial_state.cuda()\n",
    "\n",
    "for epoch in range(epochs):\n",
    "    # reset the state before every epoch\n",
    "    last_hidden_state = initial_state\n",
    "    \n",
    "    accumulated_loss = 0.0\n",
    "    \n",
    "    for batch_id in range(batches):\n",
    "        # reusing state from last batch\n",
    "        hidden_state = Variable(last_hidden_state)\n",
    "        \n",
    "        optimizer.zero_grad()\n",
    "        \n",
    "        v_loss = 0.0\n",
    "        \n",
    "        batch_start = batch_id * batch_size\n",
    "        batch_end = batch_start + batch_size + 1\n",
    "        batch_symbols = batch_one_hot_encoding(data[batch_start:batch_end])\n",
    "        if use_cuda:\n",
    "            batch_symbols = batch_symbols.cuda()\n",
    "        batch_labels = extract_batch_labels(batch_symbols)\n",
    "        \n",
    "        for sequence_id in range(batch_size):\n",
    "            symbol = batch_symbols[sequence_id]\n",
    "            label = batch_labels[sequence_id + 1]\n",
    "            \n",
    "            v_symbol = Variable(symbol)\n",
    "            v_label = Variable(label)\n",
    "            \n",
    "            v_prediction, hidden_state = model(v_symbol, hidden_state)\n",
    "            v_loss += loss_function(v_prediction, v_label)\n",
    "            \n",
    "        v_loss.backward()\n",
    "        \n",
    "        for parameter in model.parameters():\n",
    "            parameter.grad.data.clamp_(-gradient_clipping, gradient_clipping)\n",
    "        \n",
    "        optimizer.step()\n",
    "        \n",
    "        if use_cuda:\n",
    "            v_loss = v_loss.cpu()\n",
    "            \n",
    "        accumulated_loss += v_loss.data[0]\n",
    "        \n",
    "        if batch_id % log_every == log_every - 1:\n",
    "            mean_loss = accumulated_loss / float(log_every)\n",
    "            accumulated_loss = 0.0\n",
    "            print(\"Batch: {:6d} Loss: {:.4f}\".format(batch_id + 1, mean_loss))\n",
    "        \n",
    "        # cannot preserve variable between batches\n",
    "        last_hidden_state = hidden_state.data"
   ]
  }
 ],
 "metadata": {
  "kernelspec": {
   "display_name": "Python 2",
   "language": "python",
   "name": "python2"
  },
  "language_info": {
   "codemirror_mode": {
    "name": "ipython",
    "version": 2
   },
   "file_extension": ".py",
   "mimetype": "text/x-python",
   "name": "python",
   "nbconvert_exporter": "python",
   "pygments_lexer": "ipython2",
   "version": "2.7.12"
  }
 },
 "nbformat": 4,
 "nbformat_minor": 2
}
