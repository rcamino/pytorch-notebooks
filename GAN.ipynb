{
 "cells": [
  {
   "cell_type": "markdown",
   "metadata": {},
   "source": [
    "# Generative Adversarial Networks\n",
    "\n",
    "Paper: [Goodfellow, Ian, et al. \"Generative adversarial nets.\" Advances in neural information processing systems. 2014.](https://papers.nips.cc/paper/5423-generative-adversarial-nets)"
   ]
  },
  {
   "cell_type": "code",
   "execution_count": null,
   "metadata": {},
   "outputs": [],
   "source": [
    "from __future__ import print_function\n",
    "\n",
    "import torch\n",
    "import torch.nn as nn\n",
    "import torch.nn.functional as F\n",
    "import torch.autograd as autograd\n",
    "import torch.optim as optim\n",
    "\n",
    "from torch.autograd import Variable\n",
    "\n",
    "import numpy as np\n",
    "\n",
    "import matplotlib.pyplot as plt\n",
    "import matplotlib.gridspec as gridspec\n",
    "\n",
    "from torchvision import datasets, transforms\n",
    "\n",
    "from tqdm import tqdm\n",
    "\n",
    "%matplotlib inline"
   ]
  },
  {
   "cell_type": "markdown",
   "metadata": {},
   "source": [
    "## Load the dataset"
   ]
  },
  {
   "cell_type": "code",
   "execution_count": null,
   "metadata": {},
   "outputs": [],
   "source": [
    "use_cuda = torch.cuda.is_available()"
   ]
  },
  {
   "cell_type": "code",
   "execution_count": null,
   "metadata": {},
   "outputs": [],
   "source": [
    "batch_size = 16\n",
    "noise_size = 100\n",
    "hidden_size = 128\n",
    "learning_rate = 1e-3"
   ]
  },
  {
   "cell_type": "code",
   "execution_count": null,
   "metadata": {},
   "outputs": [],
   "source": [
    "mnist = torch.utils.data.DataLoader(\n",
    "    datasets.MNIST('data/mnist/raw/', train=True, download=True, transform=transforms.ToTensor()),\n",
    "    batch_size=batch_size, shuffle=True)"
   ]
  },
  {
   "cell_type": "code",
   "execution_count": null,
   "metadata": {},
   "outputs": [],
   "source": [
    "image_height = mnist.dataset.train_data.shape[1]\n",
    "image_width = mnist.dataset.train_data.shape[2]\n",
    "image_size = image_height * image_width\n",
    "print(\"Number of features:\", image_size)"
   ]
  },
  {
   "cell_type": "markdown",
   "metadata": {},
   "source": [
    "## Models"
   ]
  },
  {
   "cell_type": "code",
   "execution_count": null,
   "metadata": {},
   "outputs": [],
   "source": [
    "def initialize_weights(m):\n",
    "    if type(m) == nn.Linear:\n",
    "        nn.init.xavier_normal_(m.weight)\n",
    "        nn.init.constant_(m.bias, 0.0)"
   ]
  },
  {
   "cell_type": "code",
   "execution_count": null,
   "metadata": {},
   "outputs": [],
   "source": [
    "class Generator(nn.Module):\n",
    "    \n",
    "    def __init__(self):\n",
    "        super(Generator, self).__init__()\n",
    "        \n",
    "        self.h1 = nn.Linear(noise_size, hidden_size)\n",
    "        self.g1 = nn.ReLU()\n",
    "        self.h2 = nn.Linear(hidden_size, image_size)\n",
    "        self.g2 = nn.Sigmoid()\n",
    "        \n",
    "        self.apply(initialize_weights)\n",
    "\n",
    "    def forward(self, A0):\n",
    "        Z1 = self.h1(A0)\n",
    "        A1 = self.g1(Z1)\n",
    "        Z2 = self.h2(A1)\n",
    "        A2 = self.g2(Z2)\n",
    "        return A2"
   ]
  },
  {
   "cell_type": "code",
   "execution_count": null,
   "metadata": {},
   "outputs": [],
   "source": [
    "class Discriminator(nn.Module):\n",
    "    \n",
    "    def __init__(self):\n",
    "        super(Discriminator, self).__init__()\n",
    "        \n",
    "        self.h1 = nn.Linear(image_size, hidden_size)\n",
    "        self.g1 = nn.ReLU()\n",
    "        self.h2 = nn.Linear(hidden_size, 1)\n",
    "        self.g2 = nn.Sigmoid()\n",
    "        \n",
    "        self.apply(initialize_weights)\n",
    "\n",
    "    def forward(self, A0):\n",
    "        Z1 = self.h1(A0)\n",
    "        A1 = self.g1(Z1)\n",
    "        Z2 = self.h2(A1)\n",
    "        A2 = self.g2(Z2)\n",
    "        return A2"
   ]
  },
  {
   "cell_type": "markdown",
   "metadata": {},
   "source": [
    "## Train the networks"
   ]
  },
  {
   "cell_type": "code",
   "execution_count": null,
   "metadata": {},
   "outputs": [],
   "source": [
    "G = Generator()\n",
    "D = Discriminator()\n",
    "\n",
    "G_solver = optim.Adam(G.parameters(), lr=learning_rate)\n",
    "D_solver = optim.Adam(D.parameters(), lr=learning_rate)\n",
    "\n",
    "ones_label = Variable(torch.ones(batch_size, 1))\n",
    "zeros_label = Variable(torch.zeros(batch_size, 1))"
   ]
  },
  {
   "cell_type": "code",
   "execution_count": null,
   "metadata": {},
   "outputs": [],
   "source": [
    "def generate_noise(size):\n",
    "    return torch.randn(size, noise_size)"
   ]
  },
  {
   "cell_type": "code",
   "execution_count": null,
   "metadata": {},
   "outputs": [],
   "source": [
    "def generate_images(size):\n",
    "    with torch.no_grad():\n",
    "        Z = Variable(generate_noise(size))\n",
    "        if use_cuda:\n",
    "            Z = Z.cuda()\n",
    "        G_Z = G(Z)\n",
    "    return G_Z.data"
   ]
  },
  {
   "cell_type": "code",
   "execution_count": null,
   "metadata": {},
   "outputs": [],
   "source": [
    "def plot_images(images):\n",
    "    fig = plt.figure(figsize=(len(images), 1))\n",
    "    gs = gridspec.GridSpec(1, len(images))\n",
    "    gs.update(wspace=0.05, hspace=0.05)\n",
    "    \n",
    "    for i, image in enumerate(images):\n",
    "        ax = plt.subplot(gs[i])\n",
    "        plt.axis('off')\n",
    "        ax.set_xticklabels([])\n",
    "        ax.set_yticklabels([])\n",
    "        ax.set_aspect('equal')\n",
    "\n",
    "        plt.imshow(image.reshape(image_width, image_height),\n",
    "                   cmap='Greys_r',\n",
    "                   interpolation='None')\n",
    "        \n",
    "    plt.show()"
   ]
  },
  {
   "cell_type": "code",
   "execution_count": null,
   "metadata": {},
   "outputs": [],
   "source": [
    "if use_cuda:\n",
    "    G = G.cuda()\n",
    "    D = D.cuda()\n",
    "    \n",
    "    ones_label = ones_label.cuda()\n",
    "    zeros_label = zeros_label.cuda()"
   ]
  },
  {
   "cell_type": "code",
   "execution_count": null,
   "metadata": {},
   "outputs": [],
   "source": [
    "plot_size = 10\n",
    "plot_images(generate_images(plot_size))\n",
    "\n",
    "epochs = 10\n",
    "\n",
    "for epoch in range(epochs):\n",
    "    with tqdm(total=len(mnist)) as progress_bar:\n",
    "        progress_bar.set_description(\"Epoch {:d}/{:d}\".format(epoch + 1, epochs))\n",
    "        for iteration, (X, _) in enumerate(mnist):\n",
    "            D_solver.zero_grad()\n",
    "\n",
    "            Z = Variable(generate_noise(batch_size))\n",
    "            X = Variable(X).view(-1, image_size)\n",
    "            if use_cuda:\n",
    "                Z = Z.cuda()\n",
    "                X = X.cuda()\n",
    "\n",
    "            G_Z = G(Z)\n",
    "            D_X = D(X)\n",
    "            D_G = D(G_Z)\n",
    "\n",
    "            D_X_loss = F.binary_cross_entropy(D_X, ones_label)\n",
    "            D_G_loss = F.binary_cross_entropy(D_G, zeros_label)\n",
    "            D_loss = D_X_loss + D_G_loss\n",
    "\n",
    "            D_loss.backward()\n",
    "            D_solver.step()\n",
    "\n",
    "            G_solver.zero_grad()\n",
    "\n",
    "            Z = Variable(generate_noise(batch_size))\n",
    "            if use_cuda:\n",
    "                Z = Z.cuda()\n",
    "\n",
    "            G_Z = G(Z)\n",
    "            D_G = D(G_Z)\n",
    "\n",
    "            G_loss = F.binary_cross_entropy(D_G, ones_label)\n",
    "\n",
    "            G_loss.backward()\n",
    "            G_solver.step()\n",
    "            \n",
    "            if use_cuda:\n",
    "                D_loss = D_loss.cpu()\n",
    "                G_loss = G_loss.cpu()\n",
    "            \n",
    "            progress_bar.set_postfix(D_loss=\"{:.03f}\".format(D_loss.data.item()),\n",
    "                                     G_loss=\"{:.03f}\".format(G_loss.data.item()))\n",
    "            progress_bar.update()\n",
    "        \n",
    "    plot_images(generate_images(plot_size))"
   ]
  }
 ],
 "metadata": {
  "kernelspec": {
   "display_name": "Python 2",
   "language": "python",
   "name": "python2"
  },
  "language_info": {
   "codemirror_mode": {
    "name": "ipython",
    "version": 2
   },
   "file_extension": ".py",
   "mimetype": "text/x-python",
   "name": "python",
   "nbconvert_exporter": "python",
   "pygments_lexer": "ipython2",
   "version": "2.7.15rc1"
  }
 },
 "nbformat": 4,
 "nbformat_minor": 2
}
