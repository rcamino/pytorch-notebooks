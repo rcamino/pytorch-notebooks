{
 "cells": [
  {
   "cell_type": "code",
   "execution_count": null,
   "metadata": {
    "collapsed": true
   },
   "outputs": [],
   "source": [
    "from __future__ import print_function\n",
    "import torch\n",
    "from torch.autograd import Variable\n",
    "import torch.nn as nn\n",
    "import torch.optim as optim\n",
    "from torchvision import transforms, datasets\n",
    "import numpy as np"
   ]
  },
  {
   "cell_type": "code",
   "execution_count": null,
   "metadata": {
    "collapsed": true
   },
   "outputs": [],
   "source": [
    "data_path = \"data/MNIST\"\n",
    "batch_size = 128\n",
    "\n",
    "transform = transforms.Compose([\n",
    "    transforms.ToTensor(),\n",
    "    transforms.Normalize([0.5], [1.0])\n",
    "])\n",
    "\n",
    "train_loader = torch.utils.data.DataLoader(\n",
    "    datasets.MNIST(data_path, train=True, download=True, transform=transform),\n",
    "    batch_size=batch_size, shuffle=True)\n",
    "\n",
    "test_loader = torch.utils.data.DataLoader(\n",
    "    datasets.MNIST(data_path, train=False, download=True, transform=transform),\n",
    "    batch_size=batch_size, shuffle=True)"
   ]
  },
  {
   "cell_type": "code",
   "execution_count": null,
   "metadata": {
    "collapsed": true
   },
   "outputs": [],
   "source": [
    "class LeNet5(nn.Module):\n",
    "\n",
    "    def __init__(self):\n",
    "        super(LeNet5, self).__init__()\n",
    "        \n",
    "        self.conv = nn.Sequential(\n",
    "            nn.Conv2d(1, 6, 5, 1, 2),\n",
    "            nn.Tanh(),\n",
    "            nn.MaxPool2d(2),\n",
    "            nn.Conv2d(6, 16, 5, 1, 0),\n",
    "            nn.Tanh(),\n",
    "            nn.MaxPool2d(2)\n",
    "        )\n",
    "        \n",
    "        self.fc = nn.Sequential(\n",
    "            nn.Linear(16 * 5 * 5, 120),\n",
    "            nn.Tanh(),\n",
    "            nn.Linear(120, 84),\n",
    "            nn.Tanh(),\n",
    "            nn.Linear(84, 10),\n",
    "            nn.LogSoftmax()\n",
    "        )\n",
    "\n",
    "    def forward(self, x):\n",
    "        x = self.conv(x)\n",
    "        x = x.view(-1, 16 * 5 * 5)\n",
    "        x = self.fc(x)\n",
    "        return x"
   ]
  },
  {
   "cell_type": "code",
   "execution_count": null,
   "metadata": {
    "collapsed": true
   },
   "outputs": [],
   "source": [
    "def initialize_weights(m):\n",
    "    if isinstance(m, nn.Linear) or isinstance(m, nn.Conv2d):\n",
    "        nn.init.kaiming_uniform(m.weight, a=0, mode=\"fan_in\")"
   ]
  },
  {
   "cell_type": "code",
   "execution_count": null,
   "metadata": {
    "collapsed": true
   },
   "outputs": [],
   "source": [
    "use_cuda = torch.cuda.is_available()"
   ]
  },
  {
   "cell_type": "code",
   "execution_count": null,
   "metadata": {},
   "outputs": [],
   "source": [
    "learning_rate = 0.01\n",
    "\n",
    "model = LeNet5()\n",
    "loss_function = nn.NLLLoss()\n",
    "optimizer = optim.SGD(model.parameters(), lr=learning_rate)\n",
    "\n",
    "if use_cuda:\n",
    "    model.cuda()\n",
    "    \n",
    "model.apply(initialize_weights)"
   ]
  },
  {
   "cell_type": "code",
   "execution_count": null,
   "metadata": {
    "collapsed": true
   },
   "outputs": [],
   "source": [
    "log_every_batches = 100\n",
    "\n",
    "def run_batches(loader, train=True):\n",
    "    epoch_loss = 0.0\n",
    "    epoch_correct = 0.0\n",
    "    for batch_id, (images, labels) in enumerate(loader):\n",
    "        if train:\n",
    "            optimizer.zero_grad()\n",
    "        \n",
    "        v_images = Variable(images)\n",
    "        v_labels = Variable(labels)\n",
    "\n",
    "        if use_cuda:\n",
    "            v_images = v_images.cuda()\n",
    "            v_labels = v_labels.cuda()\n",
    "\n",
    "        v_predictions = model(v_images)\n",
    "        v_loss = loss_function(v_predictions, v_labels)\n",
    "        v_correct = torch.eq(torch.max(v_predictions, 1)[1], v_labels)\n",
    "\n",
    "        if use_cuda:\n",
    "            loss = v_loss.cpu().data.numpy()[0]\n",
    "            correct = v_correct.cpu().data.numpy()[0]\n",
    "        else:\n",
    "            loss = v_loss.data.numpy()[0]\n",
    "            correct = v_correct.data.numpy()[0]\n",
    "        \n",
    "        epoch_loss += loss\n",
    "        epoch_correct += correct\n",
    "        \n",
    "        if train:\n",
    "            v_loss.backward()\n",
    "            optimizer.step()\n",
    "\n",
    "            if batch_id % log_every_batches == log_every_batches - 1:\n",
    "                print(\"Train Batch: {:5d} Loss: {:.4f}\".format(batch_id + 1, loss))\n",
    "            \n",
    "    return epoch_loss / len(loader), epoch_correct / len(loader)"
   ]
  },
  {
   "cell_type": "code",
   "execution_count": null,
   "metadata": {},
   "outputs": [],
   "source": [
    "epochs = 10\n",
    "\n",
    "for epoch_id in range(epochs):\n",
    "    train_loss, train_accuracy = run_batches(train_loader, train=True)\n",
    "    test_loss, test_accuracy = run_batches(test_loader, train=False)\n",
    "    \n",
    "    print(\"Epoch: {:5d} Train Loss: {:.4f} Test Loss: {:.4f} Train Accuracy: {:.4f} Test Accuracy: {:.4f}\".format(\n",
    "        epoch_id + 1, train_loss, test_loss, train_accuracy, test_accuracy))"
   ]
  }
 ],
 "metadata": {
  "kernelspec": {
   "display_name": "Python 2",
   "language": "python",
   "name": "python2"
  },
  "language_info": {
   "codemirror_mode": {
    "name": "ipython",
    "version": 2
   },
   "file_extension": ".py",
   "mimetype": "text/x-python",
   "name": "python",
   "nbconvert_exporter": "python",
   "pygments_lexer": "ipython2",
   "version": "2.7.12"
  }
 },
 "nbformat": 4,
 "nbformat_minor": 1
}
